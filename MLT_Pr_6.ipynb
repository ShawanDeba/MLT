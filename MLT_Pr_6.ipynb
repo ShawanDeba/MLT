{
  "nbformat": 4,
  "nbformat_minor": 0,
  "metadata": {
    "colab": {
      "provenance": []
    },
    "kernelspec": {
      "name": "python3",
      "display_name": "Python 3"
    },
    "language_info": {
      "name": "python"
    }
  },
  "cells": [
    {
      "cell_type": "code",
      "execution_count": null,
      "metadata": {
        "id": "zXz5NsI3ccTC"
      },
      "outputs": [],
      "source": [
        "import pandas as pd\n",
        "from sklearn.model_selection import train_test_split\n",
        "from sklearn.svm import SVC\n",
        "from sklearn.metrics import classification_report, confusion_matrix\n",
        "import matplotlib.pyplot as plt\n",
        "import seaborn as sns"
      ]
    },
    {
      "cell_type": "code",
      "source": [
        "df = pd.read_csv('/content/winequalityN.csv')\n",
        "df = df.drop('type',axis=1)\n",
        "df = df.fillna(df.mean())\n",
        "print(df.isnull().sum())"
      ],
      "metadata": {
        "colab": {
          "base_uri": "https://localhost:8080/"
        },
        "id": "EL2AFRuSdC3k",
        "outputId": "5ea638df-4030-4429-ee4d-6a334cf8292f"
      },
      "execution_count": null,
      "outputs": [
        {
          "output_type": "stream",
          "name": "stdout",
          "text": [
            "fixed acidity           0\n",
            "volatile acidity        0\n",
            "citric acid             0\n",
            "residual sugar          0\n",
            "chlorides               0\n",
            "free sulfur dioxide     0\n",
            "total sulfur dioxide    0\n",
            "density                 0\n",
            "pH                      0\n",
            "sulphates               0\n",
            "alcohol                 0\n",
            "quality                 0\n",
            "dtype: int64\n"
          ]
        }
      ]
    },
    {
      "cell_type": "code",
      "source": [
        "X = df.drop('quality',axis=1)\n",
        "y = df['quality']\n",
        "\n",
        "X_train,X_test,y_train,y_test = train_test_split(X,y,test_size=0.2,random_state=100)"
      ],
      "metadata": {
        "id": "MsRAMBUUdWbd"
      },
      "execution_count": null,
      "outputs": []
    },
    {
      "cell_type": "code",
      "source": [
        "# Creating Model\n",
        "\n",
        "lsvm = SVC(kernel='linear')\n",
        "lsvm.fit(X_train,y_train)"
      ],
      "metadata": {
        "id": "Rgn4wsD8eaVm"
      },
      "execution_count": null,
      "outputs": []
    },
    {
      "cell_type": "code",
      "source": [
        "# Predicting & Printing Classificaition Report\n",
        "y_pred = lsvm.predict(X_test)\n",
        "print(classification_report(y_test,y_pred))"
      ],
      "metadata": {
        "id": "dPo2r84Bd9Im",
        "colab": {
          "base_uri": "https://localhost:8080/"
        },
        "outputId": "9cf081db-828f-4c59-9537-54241c60ffbd"
      },
      "execution_count": 7,
      "outputs": [
        {
          "output_type": "stream",
          "name": "stdout",
          "text": [
            "              precision    recall  f1-score   support\n",
            "\n",
            "           3       0.00      0.00      0.00         6\n",
            "           4       0.00      0.00      0.00        48\n",
            "           5       0.57      0.62      0.59       399\n",
            "           6       0.51      0.76      0.61       578\n",
            "           7       0.00      0.00      0.00       228\n",
            "           8       0.00      0.00      0.00        41\n",
            "\n",
            "    accuracy                           0.53      1300\n",
            "   macro avg       0.18      0.23      0.20      1300\n",
            "weighted avg       0.40      0.53      0.45      1300\n",
            "\n"
          ]
        },
        {
          "output_type": "stream",
          "name": "stderr",
          "text": [
            "/usr/local/lib/python3.9/dist-packages/sklearn/metrics/_classification.py:1344: UndefinedMetricWarning: Precision and F-score are ill-defined and being set to 0.0 in labels with no predicted samples. Use `zero_division` parameter to control this behavior.\n",
            "  _warn_prf(average, modifier, msg_start, len(result))\n",
            "/usr/local/lib/python3.9/dist-packages/sklearn/metrics/_classification.py:1344: UndefinedMetricWarning: Precision and F-score are ill-defined and being set to 0.0 in labels with no predicted samples. Use `zero_division` parameter to control this behavior.\n",
            "  _warn_prf(average, modifier, msg_start, len(result))\n",
            "/usr/local/lib/python3.9/dist-packages/sklearn/metrics/_classification.py:1344: UndefinedMetricWarning: Precision and F-score are ill-defined and being set to 0.0 in labels with no predicted samples. Use `zero_division` parameter to control this behavior.\n",
            "  _warn_prf(average, modifier, msg_start, len(result))\n"
          ]
        }
      ]
    },
    {
      "cell_type": "code",
      "source": [
        "# Plotting Confusion Matrix\n",
        "cm = confusion_matrix(y_test, y_pred)\n",
        "fig, ax = plt.subplots(figsize=(10,10))\n",
        "sns.heatmap(cm, annot=True, fmt='d', cmap=plt.cm.Blues, cbar=False)\n",
        "plt.xlabel('Predicted')\n",
        "plt.ylabel('Actual')\n",
        "plt.title('Confusion matrix - Linear SVM')\n",
        "plt.show()"
      ],
      "metadata": {
        "id": "zC2RA24Tf585"
      },
      "execution_count": null,
      "outputs": []
    },
    {
      "cell_type": "code",
      "source": [
        "# Plot histogram of predicted class probabilities\n",
        "proba = lsvm.decision_function(X_test)\n",
        "plt.hist(proba, bins=50)\n",
        "plt.xlabel('Predicted Decision Function Value')\n",
        "plt.ylabel('Count')\n",
        "plt.title('Histogram of Predicted Decision Function Values - Linear SVM')\n",
        "plt.show()"
      ],
      "metadata": {
        "id": "szIAFkXFgHkN"
      },
      "execution_count": null,
      "outputs": []
    },
    {
      "cell_type": "code",
      "source": [
        "# For No-Linear Same Thing , Just Change the \n",
        "NonLinear_SVM = SVC(kernel='rbf',gamma=0.1,C=10)\n",
        "# Follow Same Steps"
      ],
      "metadata": {
        "id": "KNLotMU3gJeq"
      },
      "execution_count": null,
      "outputs": []
    }
  ]
}